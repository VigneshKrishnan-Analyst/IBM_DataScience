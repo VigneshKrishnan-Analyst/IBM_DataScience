{
 "cells": [
  {
   "cell_type": "markdown",
   "id": "a8af246f-ee1a-4d14-a2d4-6f46e7cbd708",
   "metadata": {},
   "source": [
    "# Data Science Ecosystem"
   ]
  },
  {
   "cell_type": "markdown",
   "id": "ea98898d-3c67-435f-9d56-92db749e08d5",
   "metadata": {},
   "source": [
    "In this Notebook, Data Science Tools and Ecosystem are summarized."
   ]
  },
  {
   "cell_type": "markdown",
   "id": "74c53711-c9a8-423c-9dd2-e7791255a401",
   "metadata": {},
   "source": [
    "**Objectives:**\n",
    "\n",
    "<ul>\n",
    "    <li>Give overview of popular languages for Data Science</li>\n",
    "    <li>Give overview of popular packages for Data Science</li>\n",
    "    <li>Give overview of tools for Data Science</li>\n",
    "    <li>Illustrate how basic arithmetic operations are performed</li>\n",
    "</ul>"
   ]
  },
  {
   "cell_type": "markdown",
   "id": "4b2a4f8b-dc4f-45b5-a22f-96820486c099",
   "metadata": {},
   "source": [
    "## Author\n",
    "\n",
    "Vignesh Krishnan"
   ]
  },
  {
   "cell_type": "markdown",
   "id": "97f058d7-9bdb-4ac1-b992-ef9977b7af02",
   "metadata": {},
   "source": [
    "Some of the popular languages that Data Scientists use are:\n",
    "<ol>\n",
    "    <li> Python</li>\n",
    "    <li> R Programming Language </li>\n",
    "    <li> Julia </li>\n",
    "</ol>"
   ]
  },
  {
   "cell_type": "markdown",
   "id": "9bb188c8-90d4-4fde-9ccf-a2b1892d53b8",
   "metadata": {},
   "source": [
    "Some of the commonly used libraries that Data Scientists use are:\n",
    "<ol>\n",
    "    <li> Pandas </li>\n",
    "    <li> Numpy </li>\n",
    "    <li> Scikit learn </li>\n",
    "</ol>"
   ]
  },
  {
   "cell_type": "markdown",
   "id": "962e9bc6-5fdf-45c4-ac07-426879442e6d",
   "metadata": {},
   "source": [
    "<table style=\"width:20%\">\n",
    "    <tr>\n",
    "        <th>Data Science Tools</th>\n",
    "    </tr>\n",
    "    <tr>\n",
    "        <td>Hadoop</td>\n",
    "    </tr>\n",
    "    <tr>\n",
    "        <td>Apache Spark</td>\n",
    "    </tr>\n",
    "    <tr>\n",
    "        <td>Tensor Flow</td>\n",
    "    </tr>\n",
    "\n",
    "</table>"
   ]
  },
  {
   "cell_type": "markdown",
   "id": "a9b157ff-b00e-49ab-b693-222b136e8ce7",
   "metadata": {},
   "source": [
    "### Below are few examples of evaluating arithmetic expression in python"
   ]
  },
  {
   "cell_type": "code",
   "execution_count": 1,
   "id": "38b4bb4b-5438-4847-afab-ac571bb814dc",
   "metadata": {
    "tags": []
   },
   "outputs": [
    {
     "data": {
      "text/plain": [
       "17"
      ]
     },
     "execution_count": 1,
     "metadata": {},
     "output_type": "execute_result"
    }
   ],
   "source": [
    "#This a simple arithmetic expression to mutiply then add integers:\n",
    "(3*4)+5"
   ]
  },
  {
   "cell_type": "code",
   "execution_count": 5,
   "id": "e777e4a6-aff7-441d-8bc5-552b91a4a6cc",
   "metadata": {
    "tags": []
   },
   "outputs": [
    {
     "name": "stdout",
     "output_type": "stream",
     "text": [
      "3.33 Hours\n"
     ]
    }
   ],
   "source": [
    "#This will convert 200 minutes to hours by diving by 60:\n",
    "minutes = 200\n",
    "hours = round(200/60,2)\n",
    "print(f'{hours} Hours')"
   ]
  },
  {
   "cell_type": "code",
   "execution_count": null,
   "id": "f5d8eba3-070e-4d5e-89f4-7daa2b5298aa",
   "metadata": {},
   "outputs": [],
   "source": []
  }
 ],
 "metadata": {
  "kernelspec": {
   "display_name": "Python",
   "language": "python",
   "name": "conda-env-python-py"
  },
  "language_info": {
   "codemirror_mode": {
    "name": "ipython",
    "version": 3
   },
   "file_extension": ".py",
   "mimetype": "text/x-python",
   "name": "python",
   "nbconvert_exporter": "python",
   "pygments_lexer": "ipython3",
   "version": "3.7.12"
  }
 },
 "nbformat": 4,
 "nbformat_minor": 5
}
